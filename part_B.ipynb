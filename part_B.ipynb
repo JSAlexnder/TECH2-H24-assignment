{
 "cells": [
  {
   "cell_type": "markdown",
   "metadata": {},
   "source": [
    "# TECH 2 mandatory assignment - Part B\n",
    "\n",
    "Write your solution for Part B in this notebook."
   ]
  },
  {
   "cell_type": "code",
   "execution_count": 23,
   "metadata": {},
   "outputs": [
    {
     "data": {
      "text/plain": [
       "(100, 1000, 10000)"
      ]
     },
     "execution_count": 23,
     "metadata": {},
     "output_type": "execute_result"
    }
   ],
   "source": [
    "# Task B1 / AJS\n",
    "\n",
    "# Create empty lists to store data\n",
    "\n",
    "C1 = []\n",
    "\n",
    "C2 = []\n",
    "\n",
    "C3 = []\n",
    "\n",
    "# Save each column in its own list\n",
    "\n",
    "data = open(\"data.csv\", 'r')\n",
    "\n",
    "for line in data:\n",
    "\n",
    "      values = line.strip().split(',')\n",
    "\n",
    "      C1.append(values[0])\n",
    "\n",
    "      C2.append(values[1])\n",
    "\n",
    "      C3.append(values[2])\n",
    "\n",
    "# Delete empty rows\n",
    "\n",
    "C1 = [x for x in C1 if x != '']\n",
    "\n",
    "C2 = [x for x in C2 if x != '']\n",
    "\n",
    "C3 = [x for x in C3 if x != '']\n",
    "\n",
    "# Convert from string to float\n",
    "\n",
    "C1 = [float(x) for x in C1]  \n",
    "\n",
    "C2 = [float(x) for x in C2]\n",
    "\n",
    "C3 = [float(x) for x in C3]\n",
    "\n",
    "# Inspect if each columns is of the correct lenght\n",
    "len(C1), len(C2), len(C3)\n"
   ]
  },
  {
   "cell_type": "code",
   "execution_count": 24,
   "metadata": {},
   "outputs": [
    {
     "name": "stdout",
     "output_type": "stream",
     "text": [
      "Column 1: Using loops 0.2823721097353601 Using built-in fuctions 0.2823721097353601 using NumPy 0.28237210973536014\n",
      "Column 2: Using loops 0.28467443283850546 Using built-in fuctions 0.28467443283850546 using NumPy 0.28467443283850596\n",
      "Column 3: Using loops 0.2854045269476155 Using built-in fuctions 0.2854045269476155 using NumPy 0.2854045269476156\n"
     ]
    }
   ],
   "source": [
    "# Part B2 / AJS\n",
    "\n",
    "# Calculates standard deviation using different methods for different columns\n",
    "\n",
    "from part_A import std_loops\n",
    "\n",
    "from part_A import std_builtin\n",
    "\n",
    "import numpy as np\n",
    "\n",
    "print(\"Column 1: Using loops\", std_loops(C1), \"Using built-in fuctions\", std_builtin(C1), \"using NumPy\", np.std(C1))\n",
    "\n",
    "print(\"Column 2: Using loops\", std_loops(C2), \"Using built-in fuctions\", std_builtin(C2), \"using NumPy\", np.std(C2))\n",
    "\n",
    "print(\"Column 3: Using loops\", std_loops(C3), \"Using built-in fuctions\", std_builtin(C3), \"using NumPy\", np.std(C3))\n"
   ]
  },
  {
   "cell_type": "code",
   "execution_count": 25,
   "metadata": {},
   "outputs": [
    {
     "name": "stdout",
     "output_type": "stream",
     "text": [
      "For Column 1\n",
      "Using for loop:\n",
      "7.09 µs ± 46.1 ns per loop (mean ± std. dev. of 7 runs, 100,000 loops each)\n",
      "Using built in functions:\n",
      "4.92 µs ± 12.8 ns per loop (mean ± std. dev. of 7 runs, 100,000 loops each)\n",
      "Using Numpy:\n",
      "8.98 µs ± 26.4 ns per loop (mean ± std. dev. of 7 runs, 100,000 loops each)\n"
     ]
    }
   ],
   "source": [
    "# Part B3 / AJS\n",
    "\n",
    "#Computing time for Standard deviation for column 1 using different methods \n",
    "print(\"For Column 1\")\n",
    "print(\"Using for loop:\") \n",
    "%timeit std_loops(C1)\n",
    "\n",
    "print(\"Using built in functions:\")\n",
    "%timeit std_builtin(C1)\n",
    "\n",
    "print(\"Using Numpy:\")\n",
    "%timeit np.std(C1)"
   ]
  },
  {
   "cell_type": "code",
   "execution_count": 29,
   "metadata": {},
   "outputs": [
    {
     "name": "stdout",
     "output_type": "stream",
     "text": [
      "For Column 2\n",
      "Using for loop:\n",
      "76.2 µs ± 1.14 µs per loop (mean ± std. dev. of 7 runs, 10,000 loops each)\n",
      "Using built in functions:\n",
      "45.1 µs ± 197 ns per loop (mean ± std. dev. of 7 runs, 10,000 loops each)\n",
      "Using Numpy:\n",
      "26 µs ± 39.6 ns per loop (mean ± std. dev. of 7 runs, 10,000 loops each)\n"
     ]
    }
   ],
   "source": [
    "#Computing time for Standard deviation for column 2 using different methods \n",
    "\n",
    "print(\"For Column 2\")\n",
    "print(\"Using for loop:\") \n",
    "%timeit std_loops(C2)\n",
    "\n",
    "print(\"Using built in functions:\")\n",
    "%timeit std_builtin(C2)\n",
    "\n",
    "print(\"Using Numpy:\")\n",
    "%timeit np.std(C2)"
   ]
  },
  {
   "cell_type": "code",
   "execution_count": 30,
   "metadata": {},
   "outputs": [
    {
     "name": "stdout",
     "output_type": "stream",
     "text": [
      "For Column 3\n",
      "Using for loop:\n",
      "731 µs ± 18.1 µs per loop (mean ± std. dev. of 7 runs, 1,000 loops each)\n",
      "Using built in functions:\n",
      "447 µs ± 2.29 µs per loop (mean ± std. dev. of 7 runs, 1,000 loops each)\n",
      "Using Numpy:\n",
      "192 µs ± 540 ns per loop (mean ± std. dev. of 7 runs, 10,000 loops each)\n"
     ]
    }
   ],
   "source": [
    "#Computing time for Standard deviation for column 3 using different methods \n",
    "\n",
    "print(\"For Column 3\")\n",
    "\n",
    "print(\"Using for loop:\") \n",
    "%timeit std_loops(C3)\n",
    "\n",
    "print(\"Using built in functions:\")\n",
    "%timeit std_builtin(C3)\n",
    "\n",
    "print(\"Using Numpy:\")\n",
    "%timeit np.std(C3)"
   ]
  },
  {
   "cell_type": "code",
   "execution_count": 31,
   "metadata": {},
   "outputs": [],
   "source": [
    "# Numpy approach is better at handling bigger number sequences and amount of data\n",
    "# For Loop and built in function - linear increase with the lenght of the sequence, whereas the NumPy is not\n",
    "# See attached excel file that illustrates this graphically\n"
   ]
  }
 ],
 "metadata": {
  "kernelspec": {
   "display_name": "Python 3",
   "language": "python",
   "name": "python3"
  },
  "language_info": {
   "codemirror_mode": {
    "name": "ipython",
    "version": 3
   },
   "file_extension": ".py",
   "mimetype": "text/x-python",
   "name": "python",
   "nbconvert_exporter": "python",
   "pygments_lexer": "ipython3",
   "version": "3.9.6"
  }
 },
 "nbformat": 4,
 "nbformat_minor": 2
}
